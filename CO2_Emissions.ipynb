{
  "cells": [
    {
      "cell_type": "markdown",
      "metadata": {
        "id": "view-in-github",
        "colab_type": "text"
      },
      "source": [
        "<a href=\"https://colab.research.google.com/github/Asma031998/datavisualisation/blob/master/CO2_Emissions.ipynb\" target=\"_parent\"><img src=\"https://colab.research.google.com/assets/colab-badge.svg\" alt=\"Open In Colab\"/></a>"
      ]
    },
    {
      "cell_type": "markdown",
      "metadata": {
        "id": "mYssZLW_CRXY"
      },
      "source": [
        "# 01 - CO2 Emissions 🌎"
      ]
    },
    {
      "cell_type": "markdown",
      "metadata": {
        "id": "wzwny9YPCRXZ"
      },
      "source": [
        "---"
      ]
    },
    {
      "cell_type": "markdown",
      "metadata": {
        "id": "mfW9utBpCRXZ"
      },
      "source": [
        "<img src=\"https://static1.squarespace.com/static/55cce2c6e4b0513a93e643d0/55d637fde4b0a862eed666ae/5703efa1859fd07e226b5d19/1523291953647/YouthCamp2018BG.jpg?format=1500w\" />\n",
        "\n",
        "Photo by [Noah Silliman](https://unsplash.com/@noahsilliman)"
      ]
    },
    {
      "cell_type": "markdown",
      "metadata": {
        "id": "B9a2osrTCRXa"
      },
      "source": [
        "---"
      ]
    },
    {
      "cell_type": "markdown",
      "metadata": {
        "id": "gXh-FgZ2CRXa"
      },
      "source": [
        "**Q1**. Load the dataset `CO2_per_capita.csv` into a **Pandas Dataframe**. What does this dataset contain?"
      ]
    },
    {
      "cell_type": "code",
      "execution_count": null,
      "metadata": {
        "code_folding": [],
        "id": "0fcdPq9kCRXa"
      },
      "outputs": [],
      "source": [
        "# TODO: Load and describe \n",
        "import pandas as pd\n"
      ]
    },
    {
      "cell_type": "code",
      "execution_count": null,
      "metadata": {
        "id": "nZ_BxuegCRXb"
      },
      "outputs": [],
      "source": []
    },
    {
      "cell_type": "code",
      "execution_count": null,
      "metadata": {
        "id": "ZHe86rq8CRXb"
      },
      "outputs": [],
      "source": []
    },
    {
      "cell_type": "code",
      "execution_count": null,
      "metadata": {
        "id": "LW8gEa0-CRXc"
      },
      "outputs": [],
      "source": [
        "import numpy as np"
      ]
    },
    {
      "cell_type": "code",
      "execution_count": null,
      "metadata": {
        "id": "sh-tq0ZnCRXc",
        "outputId": "d0f376ec-bd56-4f51-f5dc-2898fe540369"
      },
      "outputs": [
        {
          "data": {
            "text/html": [
              "<div>\n",
              "<style scoped>\n",
              "    .dataframe tbody tr th:only-of-type {\n",
              "        vertical-align: middle;\n",
              "    }\n",
              "\n",
              "    .dataframe tbody tr th {\n",
              "        vertical-align: top;\n",
              "    }\n",
              "\n",
              "    .dataframe thead th {\n",
              "        text-align: right;\n",
              "    }\n",
              "</style>\n",
              "<table border=\"1\" class=\"dataframe\">\n",
              "  <thead>\n",
              "    <tr style=\"text-align: right;\">\n",
              "      <th></th>\n",
              "      <th>contry name</th>\n",
              "      <th>contry code</th>\n",
              "      <th>year</th>\n",
              "      <th>CO2 capital</th>\n",
              "    </tr>\n",
              "  </thead>\n",
              "  <tbody>\n",
              "  </tbody>\n",
              "</table>\n",
              "</div>"
            ],
            "text/plain": [
              "Empty DataFrame\n",
              "Columns: [contry name, contry code, year, CO2 capital]\n",
              "Index: []"
            ]
          },
          "execution_count": 3,
          "metadata": {},
          "output_type": "execute_result"
        }
      ],
      "source": [
        "# TODO: Load and d\n",
        "df = pd.DataFrame({\"contry name\": [], \"contry code\": [],\"year\": [],\"CO2 capital\": []\n",
        "                   })\n",
        "df"
      ]
    },
    {
      "cell_type": "code",
      "execution_count": null,
      "metadata": {
        "id": "uO7vBml1CRXd",
        "outputId": "14b5551d-1f1f-41e3-85b8-7c02eb82611a"
      },
      "outputs": [
        {
          "data": {
            "text/html": [
              "<div>\n",
              "<style scoped>\n",
              "    .dataframe tbody tr th:only-of-type {\n",
              "        vertical-align: middle;\n",
              "    }\n",
              "\n",
              "    .dataframe tbody tr th {\n",
              "        vertical-align: top;\n",
              "    }\n",
              "\n",
              "    .dataframe thead th {\n",
              "        text-align: right;\n",
              "    }\n",
              "</style>\n",
              "<table border=\"1\" class=\"dataframe\">\n",
              "  <thead>\n",
              "    <tr style=\"text-align: right;\">\n",
              "      <th></th>\n",
              "      <th>namec</th>\n",
              "      <th>codec</th>\n",
              "      <th>year</th>\n",
              "      <th>co2</th>\n",
              "    </tr>\n",
              "  </thead>\n",
              "  <tbody>\n",
              "    <tr>\n",
              "      <th>0</th>\n",
              "      <td>Aruba</td>\n",
              "      <td>ABW</td>\n",
              "      <td>1961</td>\n",
              "      <td>NaN</td>\n",
              "    </tr>\n",
              "    <tr>\n",
              "      <th>1</th>\n",
              "      <td>Aruba</td>\n",
              "      <td>ABW</td>\n",
              "      <td>1961</td>\n",
              "      <td>NaN</td>\n",
              "    </tr>\n",
              "    <tr>\n",
              "      <th>2</th>\n",
              "      <td>Aruba</td>\n",
              "      <td>ABW</td>\n",
              "      <td>1962</td>\n",
              "      <td>NaN</td>\n",
              "    </tr>\n",
              "    <tr>\n",
              "      <th>3</th>\n",
              "      <td>Aruba</td>\n",
              "      <td>ABW</td>\n",
              "      <td>1963</td>\n",
              "      <td>NaN</td>\n",
              "    </tr>\n",
              "    <tr>\n",
              "      <th>4</th>\n",
              "      <td>Aruba</td>\n",
              "      <td>ABW</td>\n",
              "      <td>1964</td>\n",
              "      <td>NaN</td>\n",
              "    </tr>\n",
              "  </tbody>\n",
              "</table>\n",
              "</div>"
            ],
            "text/plain": [
              "   namec codec  year  co2\n",
              "0  Aruba   ABW  1961  NaN\n",
              "1  Aruba   ABW  1961  NaN\n",
              "2  Aruba   ABW  1962  NaN\n",
              "3  Aruba   ABW  1963  NaN\n",
              "4  Aruba   ABW  1964  NaN"
            ]
          },
          "execution_count": 4,
          "metadata": {},
          "output_type": "execute_result"
        }
      ],
      "source": [
        "df = pd.read_csv('input/CO2.csv',sep=\";\")\n",
        "\n",
        "df.columns=[\"namec\",\"codec\",\"year\",\"co2\"]\n",
        "df.head()\n"
      ]
    },
    {
      "cell_type": "markdown",
      "metadata": {
        "id": "Dj54FJrJCRXd"
      },
      "source": [
        "**Q2**. We are going to answer the question: **which countries have the highest CO2 emissions per capita lately?**\n",
        "- Think about how what chart could answer this question efficiently\n",
        "- Think about how the data should be transformed in order to draw this chart\n",
        "- Transform your data accordingly"
      ]
    },
    {
      "cell_type": "code",
      "execution_count": null,
      "metadata": {
        "id": "c_ACAa7mCRXd",
        "outputId": "ddcbe50b-2c32-40e3-d39f-f9a79ec63be5"
      },
      "outputs": [
        {
          "name": "stdout",
          "output_type": "stream",
          "text": [
            "2011\n",
            "                      namec codec  year        co2\n",
            "9931                  Qatar   QAT  2011  44.018926\n",
            "11803   Trinidad and Tobago   TTO  2011  37.140054\n",
            "6239                 Kuwait   KWT  2011  28.102662\n",
            "1559      Brunei Darussalam   BRN  2011  24.392013\n",
            "51                    Aruba   ABW  2011  23.922412\n",
            "7071             Luxembourg   LUX  2011  20.897812\n",
            "363    United Arab Emirates   ARE  2011  20.433838\n",
            "9099                   Oman   OMN  2011  20.203895\n",
            "10191          Saudi Arabia   SAU  2011  18.072451\n",
            "1091                Bahrain   BHR  2011  17.947330\n",
            "12271         United States   USA  2011  17.020216\n",
            "8423          North America   NAC  2011  16.731986\n",
            "623               Australia   AUS  2011  16.519210\n",
            "5823             Kazakhstan   KAZ  2011  15.810098\n",
            "8527          New Caledonia   NCL  2011  15.173295\n",
            "1767                 Canada   CAN  2011  14.135813\n",
            "3587                Estonia   EST  2011  14.049883\n",
            "10035    Russian Federation   RUS  2011  12.647328\n",
            "4575              Greenland   GRL  2011  12.440341\n",
            "11647          Turkmenistan   TKM  2011  12.183667\n"
          ]
        }
      ],
      "source": [
        "# TODO: Transfordfm your data so that you can easily plodf.columns=[\"namec\",\"codec\",'year',\"co2\"]\n",
        "\n",
        "ly=sorted(df.year.unique())[-1]\n",
        "print(ly)\n",
        "\n",
        "\n",
        "ali = df[(df.year == ly) & ~(df.co2.isnull())]\n",
        "\n",
        "ali\n",
        "\n",
        "top20=ali.sort_values(\n",
        "by=\"co2\",\n",
        "ascending=False)[:20]\n",
        "print(top20)\n",
        "\n",
        "\n",
        "\n",
        "\n",
        "\n",
        "#{print(\"this dateset corresponds to the annual CO2 emissions per capita/per contry from {} to {}\".format(\n",
        "#sorted(df.Year.unique())[-0],sorted(df.Year.unique())[-1]\n",
        "#)\n",
        "  #   )}#\n"
      ]
    },
    {
      "cell_type": "code",
      "execution_count": null,
      "metadata": {
        "id": "vDw4NCMNCRXe"
      },
      "outputs": [],
      "source": [
        "\n",
        "\n",
        "\n"
      ]
    },
    {
      "cell_type": "markdown",
      "metadata": {
        "id": "jMkcUwtCCRXe"
      },
      "source": [
        "**Q3**. Draw your chart with `seaborn` library and answer the original question."
      ]
    },
    {
      "cell_type": "code",
      "execution_count": null,
      "metadata": {
        "id": "m8ToYesVCRXe"
      },
      "outputs": [],
      "source": [
        "import seaborn as sns\n",
        "from matplotlib import pyplot as plt\n",
        " \n",
        "\n"
      ]
    },
    {
      "cell_type": "code",
      "execution_count": null,
      "metadata": {
        "id": "d8pnqQYQCRXe",
        "outputId": "0ae8d207-4dbc-4c04-9add-9c9e2077dfe4"
      },
      "outputs": [
        {
          "data": {
            "text/plain": [
              "<Axes: title={'center': 'emission co2 de France de 1990 a 2011'}, xlabel='year', ylabel='co2'>"
            ]
          },
          "execution_count": 7,
          "metadata": {},
          "output_type": "execute_result"
        },
        {
          "data": {
            "image/png": "[encoded data removed]",
            "text/plain": [
              "<Figure size 640x480 with 1 Axes>"
            ]
          },
          "metadata": {},
          "output_type": "display_data"
        }
      ],
      "source": [
        "from matplotlib import pyplot as plt\n",
        "import seaborn as sns\n",
        "\n",
        "em=df[(df.namec == \"France\")& ~(df.co2.isnull())]\n",
        "plt.subplot(211)\n",
        "plt.title(\"emission co2 de France de 1990 a 2011\", fontweight=\"bold\")\n",
        "sns.lineplot(x=\"year\", y=\"co2\",alpha=0.5,\n",
        "            marker='o',\n",
        "             legend=False,\n",
        "             data=em)\n",
        "\n",
        "\n",
        "\n",
        "\n",
        "#plt.figure(figsize=(12,6), dpi=300)\n",
        "#sns.barplot( x=\"year\",y=\"co2\",data=em,color=\"blue\",alpha=0.5)\n",
        "#plt.xticks(rotation=90)\n",
        "#plt.title(\" emission co2 de France de 1990 a 2011\",fontweight=\"bold\")\n",
        "\n",
        "#plt.show()"
      ]
    },
    {
      "cell_type": "code",
      "execution_count": null,
      "metadata": {
        "id": "An2eLDEgCRXf"
      },
      "outputs": [],
      "source": [
        "#top 10 des pays les plus polieur 1960-2011 a Réalisier \n",
        "\n",
        "# les plus polieur  5 dernier année \n",
        "\n",
        "#les pays le moin poluert en 2016 erreur\n",
        "# pays qui devraietre plus d'effort en ce qui conserne d l'emission de co2\n",
        "#taux cumuler\n",
        "#kaggle\n"
      ]
    },
    {
      "cell_type": "code",
      "execution_count": null,
      "metadata": {
        "id": "j8rDnma_CRXf"
      },
      "outputs": [],
      "source": []
    },
    {
      "cell_type": "markdown",
      "metadata": {
        "id": "y092L-HACRXf"
      },
      "source": []
    },
    {
      "cell_type": "code",
      "execution_count": null,
      "metadata": {
        "id": "v_v35TGJCRXf"
      },
      "outputs": [],
      "source": []
    },
    {
      "cell_type": "code",
      "execution_count": null,
      "metadata": {
        "scrolled": false,
        "id": "bDpTKGrFCRXf"
      },
      "outputs": [],
      "source": []
    },
    {
      "cell_type": "markdown",
      "metadata": {
        "id": "ak32eu41CRXg"
      },
      "source": [
        "**Q4**. Are the annual emissions per capita decreasing over time in France? in Thailand? \n",
        "\n",
        "> 🔦 **Hint**: Again, you should follow the same process as before:\n",
        "- which chart can answer my question?\n",
        "- what data do I need to draw this chart?\n",
        "- get the data and draw the chart\n",
        "\n",
        "What can your say about CO2 emissions in these countries?"
      ]
    },
    {
      "cell_type": "markdown",
      "metadata": {
        "scrolled": false,
        "id": "MKHw2sTWCRXg"
      },
      "source": [
        "import seaborn as sns\n",
        "from matplotlib import pyplot as plt\n",
        "em=df[(df.namec == \"France\")& ~(df.co2.isnull())]\n",
        "\n",
        "print(em)\n",
        "\n",
        "plt.figure(figsize=(12,6), dpi=300)\n",
        "sns.barplot(x=\"year\",\n",
        "        y=\"co2\",\n",
        "           data=em,\n",
        "           color=\"red\",\n",
        "           alpha=0.5)\n",
        "plt.xticks(rotation=90)\n",
        "plt.title(\"émissions de CO2 en france depuis 1960 jusqu'a 2011\")\n",
        "plt.show()"
      ]
    },
    {
      "cell_type": "code",
      "execution_count": null,
      "metadata": {
        "code_folding": [],
        "id": "mHq690LRCRXg",
        "outputId": "9743117f-5a25-44ef-f722-ef3f66c01d17"
      },
      "outputs": [
        {
          "name": "stdout",
          "output_type": "stream",
          "text": [
            "1.72647817625\n"
          ]
        },
        {
          "data": {
            "text/plain": [
              "<Axes: title={'center': 'emission co2 de thailand de 1990 a 2011'}, xlabel='year', ylabel='co2'>"
            ]
          },
          "execution_count": 9,
          "metadata": {},
          "output_type": "execute_result"
        },
        {
          "data": {
            "image/png": "[encoded data removed]",
            "text/plain": [
              "<Figure size 640x480 with 1 Axes>"
            ]
          },
          "metadata": {},
          "output_type": "display_data"
        }
      ],
      "source": [
        "# TODO: Evolution of annual emissiimport seaborn as sns\n",
        "from matplotlib import pyplot as plt\n",
        "import seaborn as sns\n",
        "\n",
        "th=df[(df.namec == \"Thailand\")& ~(df.co2.isnull())]\n",
        "print(th.co2.mean())\n",
        "plt.subplot(211)\n",
        "plt.title(\"emission co2 de thailand de 1990 a 2011\", fontweight=\"bold\")\n",
        "sns.lineplot(x=\"year\", y=\"co2\",\n",
        "            marker=\"o\",\n",
        "             legend=False,\n",
        "             data=th)\n",
        "#plt.figure(figsize=(12,6), dpi=300)\n",
        "#sns.barplot( x=\"year\",y=\"co2\",data=th,color=\"blue\",alpha=0.5)\n",
        "#plt.xticks(rotation=90)\n",
        "#plt.title(\" emission co2 de thailand de 1990 a 2011\",fontweight=\"bold\")\n",
        "\n",
        "#plt.show()"
      ]
    },
    {
      "cell_type": "code",
      "execution_count": null,
      "metadata": {
        "id": "TYMfGpkrCRXg",
        "outputId": "165becf4-8ec7-4b1f-f9c9-8481c35cc1c3"
      },
      "outputs": [
        {
          "data": {
            "text/html": [
              "<div>\n",
              "<style scoped>\n",
              "    .dataframe tbody tr th:only-of-type {\n",
              "        vertical-align: middle;\n",
              "    }\n",
              "\n",
              "    .dataframe tbody tr th {\n",
              "        vertical-align: top;\n",
              "    }\n",
              "\n",
              "    .dataframe thead th {\n",
              "        text-align: right;\n",
              "    }\n",
              "</style>\n",
              "<table border=\"1\" class=\"dataframe\">\n",
              "  <thead>\n",
              "    <tr style=\"text-align: right;\">\n",
              "      <th></th>\n",
              "      <th>namec</th>\n",
              "      <th>codec</th>\n",
              "      <th>year</th>\n",
              "      <th>co2</th>\n",
              "    </tr>\n",
              "  </thead>\n",
              "  <tbody>\n",
              "    <tr>\n",
              "      <th>778</th>\n",
              "      <td>Burundi</td>\n",
              "      <td>BDI</td>\n",
              "      <td>2010</td>\n",
              "      <td>0.020542</td>\n",
              "    </tr>\n",
              "  </tbody>\n",
              "</table>\n",
              "</div>"
            ],
            "text/plain": [
              "       namec codec  year       co2\n",
              "778  Burundi   BDI  2010  0.020542"
            ]
          },
          "execution_count": 12,
          "metadata": {},
          "output_type": "execute_result"
        }
      ],
      "source": [
        "#                                                --observation--\n",
        "#lst=sorted(df.year.unique())[-5:]\n",
        "\n",
        "#le  pays le moin polieur en 2010\n",
        "vudf=df[(df.co2.notnull())]\n",
        "\n",
        "l16=vudf[(vudf.year == 2010)]\n",
        "\n",
        "py16=l16.sort_values(\n",
        "by=\"co2\",\n",
        "ascending=True)[:1]\n",
        "py16\n",
        "\n",
        "\n",
        "#for i in range len():\n",
        "#"
      ]
    },
    {
      "cell_type": "code",
      "execution_count": null,
      "metadata": {
        "id": "g-dDMZ3VCRXh",
        "outputId": "414c0cfe-f3a3-422c-e2de-68a255c20f1c"
      },
      "outputs": [
        {
          "name": "stdout",
          "output_type": "stream",
          "text": [
            "le pays plus poleur en  2007 sont:\n",
            "       namec codec  year      co2\n",
            "9927  Qatar   QAT  2007  55.3368\n",
            "\n",
            "\n",
            "le pays plus poleur en  2008 sont:\n",
            "       namec codec  year       co2\n",
            "9928  Qatar   QAT  2008  48.60162\n",
            "\n",
            "\n",
            "le pays plus poleur en  2009 sont:\n",
            "       namec codec  year        co2\n",
            "9929  Qatar   QAT  2009  44.836401\n",
            "\n",
            "\n",
            "le pays plus poleur en  2010 sont:\n",
            "       namec codec  year        co2\n",
            "9930  Qatar   QAT  2010  42.639076\n",
            "\n",
            "\n",
            "le pays plus poleur en  2011 sont:\n",
            "       namec codec  year        co2\n",
            "9931  Qatar   QAT  2011  44.018926\n",
            "\n",
            "\n"
          ]
        }
      ],
      "source": [
        "#le pays  plus polieur  5 dernier année \n",
        "vudf=df[(df.co2.notnull())] #supprimer les emissions null\n",
        "annetri=vudf.sort_values(\n",
        "by=\"year\",ascending=True) # trier les année de 1960 jusqu'a 2011\n",
        "last5=sorted(vudf.year.unique())[-5:] # ajouter a last5 les année  depuit 2007 (5 derniere année)\n",
        "y=len(last5) # y la longueur de last5\n",
        "for i in range(y) :\n",
        "    lst=vudf[(vudf.year== last5[i])] # # verifier si on est dans le meme année et la mettre a lst\n",
        "    top1=lst.sort_values(\n",
        "    by =\"co2\",ascending=False)[:1] # trier et afficher les 10 derniere cas de lst\n",
        "    print(\"le pays plus poleur en \",last5[i],\"sont:\\n\",top1)\n",
        "    print(\"\\n\")\n",
        "\n",
        "\n"
      ]
    },
    {
      "cell_type": "code",
      "execution_count": null,
      "metadata": {
        "id": "2Xuq6HukCRXh",
        "outputId": "86f5e733-be6c-4d18-9767-a055e0be3dce"
      },
      "outputs": [
        {
          "name": "stdout",
          "output_type": "stream",
          "text": [
            "le pays le plus polieur est  et qui devcait faire le plus d'effort est :\n",
            "      namec    moyenne\n",
            "179  Qatar  54.423341\n"
          ]
        }
      ],
      "source": [
        "#le pays le plus polieur 1960-2011 a Réalisier \n",
        "vudf=df[(df.co2.notnull())] #supprine les emissions null\n",
        "\n",
        "afficher=pd.DataFrame({\"namec\":[],\"moyenne\":[]})# data frame affichage\n",
        "afficher\n",
        "nbrc=vudf.namec.nunique()\n",
        "pays=vudf[\"namec\"].unique() # liste des pays\n",
        "liste_pays=[] # liste des pays i\n",
        "liste_moyenne =[] # liste des moyenne de co2\n",
        "for i in pays :\n",
        "    verif=vudf[(vudf.namec == i)] # verifier si on est dans le meme pays tout la années\n",
        "    a=verif.co2.unique() # mettre les valeur des co2 de le pays dans a\n",
        "    j=a.mean() # calculer la moyenne de co2 emission de pays\n",
        "    \n",
        "    #print(\"la moyenn d'emission co2 de:\",i,\" est\",j)\n",
        "    liste_pays .append(i) # ajouter le pays dans la liste a\n",
        "    liste_moyenne .append(j) # ajouter la moyenne démission de pays  dans la liste j\n",
        "    \n",
        "   \n",
        "afficher[\"namec\"]=liste_pays \n",
        "afficher[\"moyenne\"]=liste_moyenne  \n",
        "\n",
        "top1=afficher.sort_values(\n",
        "by =\"moyenne\",ascending=False)[:1]\n",
        "top1\n",
        "print(\"le pays le plus polieur est  et qui devcait faire le plus d'effort est :\\n\",top1)"
      ]
    },
    {
      "cell_type": "markdown",
      "metadata": {
        "id": "MMQ_v4feCRXh"
      },
      "source": [
        "**Q5**. What questions could be interesting to answer with the available data? Which charts would you use to answer those questions?"
      ]
    },
    {
      "cell_type": "markdown",
      "metadata": {
        "id": "UqP8XJgRCRXh"
      },
      "source": [
        "TODO: answer question in Markdown"
      ]
    },
    {
      "cell_type": "markdown",
      "metadata": {
        "id": "EL2MZJguCRXi"
      },
      "source": [
        "**Q6 [bonus]**. This one is bonus, come back to this question if you finish other challenges early. 😝\n",
        "\n",
        "Have a look at `folium` library, and use it to visualize CO2 emissions per capita data on a World map.\n",
        "\n",
        "> 🔦 **Hints**:\n",
        "- You can **create a map** this way:\n",
        "    ``` python\n",
        "    import folium\n",
        "    m = folium.Map()\n",
        "    ```\n",
        "- You can **add a circle on the map** like this:\n",
        "    ``` python\n",
        "    folium.Circle(\n",
        "        location=[longitude, latitude],\n",
        "        popup=name,\n",
        "        radius=100\n",
        "    ).add_to(m)\n",
        "    ```\n",
        "- You will also need the function `get_boundingbox_country` below, that will give you the longitude and latitude of a country based on it's name (if you inspect the function, you will see it's a simple function requesting an API - you remember I hope 🔌 - to get the information)."
      ]
    },
    {
      "cell_type": "code",
      "execution_count": null,
      "metadata": {
        "id": "hrzhvJI2CRXi"
      },
      "outputs": [],
      "source": []
    },
    {
      "cell_type": "code",
      "execution_count": null,
      "metadata": {
        "scrolled": true,
        "id": "5VOj0_FVCRXi"
      },
      "outputs": [],
      "source": [
        "# TODO: a realisier :   top 10 des pays les plus polieur 1960-2011 a Réalisier"
      ]
    },
    {
      "cell_type": "code",
      "execution_count": null,
      "metadata": {
        "id": "GCV8XemsCRXi"
      },
      "outputs": [],
      "source": [
        "\n",
        " "
      ]
    },
    {
      "cell_type": "code",
      "execution_count": null,
      "metadata": {
        "id": "v_pew-BSCRXi"
      },
      "outputs": [],
      "source": [
        " "
      ]
    },
    {
      "cell_type": "code",
      "execution_count": null,
      "metadata": {
        "id": "eAUplj8ECRXj"
      },
      "outputs": [],
      "source": []
    },
    {
      "cell_type": "code",
      "execution_count": null,
      "metadata": {
        "id": "NIKW_PTyCRXj"
      },
      "outputs": [],
      "source": []
    },
    {
      "cell_type": "code",
      "execution_count": null,
      "metadata": {
        "id": "7qbZ_qZQCRXj"
      },
      "outputs": [],
      "source": []
    }
  ],
  "metadata": {
    "kernelspec": {
      "display_name": "Python 3 (ipykernel)",
      "language": "python",
      "name": "python3"
    },
    "language_info": {
      "codemirror_mode": {
        "name": "ipython",
        "version": 3
      },
      "file_extension": ".py",
      "mimetype": "text/x-python",
      "name": "python",
      "nbconvert_exporter": "python",
      "pygments_lexer": "ipython3",
      "version": "3.11.2"
    },
    "colab": {
      "provenance": [],
      "include_colab_link": true
    }
  },
  "nbformat": 4,
  "nbformat_minor": 0
}